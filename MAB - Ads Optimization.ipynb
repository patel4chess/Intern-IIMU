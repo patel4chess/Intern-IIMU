{
 "cells": [
  {
   "cell_type": "code",
   "execution_count": 1,
   "metadata": {},
   "outputs": [],
   "source": [
    "# Importing the libraries\n",
    "import numpy as np\n",
    "import matplotlib.pyplot as plt\n",
    "import pandas as pd\n",
    "import random\n",
    "from random import randrange\n",
    "import math"
   ]
  },
  {
   "cell_type": "code",
   "execution_count": 2,
   "metadata": {},
   "outputs": [],
   "source": [
    "dataset = pd.read_csv('D:/RnD/Dynamic Pricing/Input Data/Ads_Optimisation.csv')"
   ]
  },
  {
   "cell_type": "code",
   "execution_count": 3,
   "metadata": {
    "scrolled": true
   },
   "outputs": [
    {
     "data": {
      "text/html": [
       "<div>\n",
       "<style scoped>\n",
       "    .dataframe tbody tr th:only-of-type {\n",
       "        vertical-align: middle;\n",
       "    }\n",
       "\n",
       "    .dataframe tbody tr th {\n",
       "        vertical-align: top;\n",
       "    }\n",
       "\n",
       "    .dataframe thead th {\n",
       "        text-align: right;\n",
       "    }\n",
       "</style>\n",
       "<table border=\"1\" class=\"dataframe\">\n",
       "  <thead>\n",
       "    <tr style=\"text-align: right;\">\n",
       "      <th></th>\n",
       "      <th>Ad 1</th>\n",
       "      <th>Ad 2</th>\n",
       "      <th>Ad 3</th>\n",
       "      <th>Ad 4</th>\n",
       "      <th>Ad 5</th>\n",
       "      <th>Ad 6</th>\n",
       "      <th>Ad 7</th>\n",
       "      <th>Ad 8</th>\n",
       "      <th>Ad 9</th>\n",
       "      <th>Ad 10</th>\n",
       "    </tr>\n",
       "  </thead>\n",
       "  <tbody>\n",
       "    <tr>\n",
       "      <th>0</th>\n",
       "      <td>1</td>\n",
       "      <td>0</td>\n",
       "      <td>0</td>\n",
       "      <td>0</td>\n",
       "      <td>1</td>\n",
       "      <td>0</td>\n",
       "      <td>0</td>\n",
       "      <td>0</td>\n",
       "      <td>1</td>\n",
       "      <td>0</td>\n",
       "    </tr>\n",
       "    <tr>\n",
       "      <th>1</th>\n",
       "      <td>0</td>\n",
       "      <td>0</td>\n",
       "      <td>0</td>\n",
       "      <td>0</td>\n",
       "      <td>0</td>\n",
       "      <td>0</td>\n",
       "      <td>0</td>\n",
       "      <td>0</td>\n",
       "      <td>1</td>\n",
       "      <td>0</td>\n",
       "    </tr>\n",
       "    <tr>\n",
       "      <th>2</th>\n",
       "      <td>0</td>\n",
       "      <td>0</td>\n",
       "      <td>0</td>\n",
       "      <td>0</td>\n",
       "      <td>0</td>\n",
       "      <td>0</td>\n",
       "      <td>0</td>\n",
       "      <td>0</td>\n",
       "      <td>0</td>\n",
       "      <td>0</td>\n",
       "    </tr>\n",
       "    <tr>\n",
       "      <th>3</th>\n",
       "      <td>0</td>\n",
       "      <td>1</td>\n",
       "      <td>0</td>\n",
       "      <td>0</td>\n",
       "      <td>0</td>\n",
       "      <td>0</td>\n",
       "      <td>0</td>\n",
       "      <td>1</td>\n",
       "      <td>0</td>\n",
       "      <td>0</td>\n",
       "    </tr>\n",
       "    <tr>\n",
       "      <th>4</th>\n",
       "      <td>0</td>\n",
       "      <td>0</td>\n",
       "      <td>0</td>\n",
       "      <td>0</td>\n",
       "      <td>0</td>\n",
       "      <td>0</td>\n",
       "      <td>0</td>\n",
       "      <td>0</td>\n",
       "      <td>0</td>\n",
       "      <td>0</td>\n",
       "    </tr>\n",
       "  </tbody>\n",
       "</table>\n",
       "</div>"
      ],
      "text/plain": [
       "   Ad 1  Ad 2  Ad 3  Ad 4  Ad 5  Ad 6  Ad 7  Ad 8  Ad 9  Ad 10\n",
       "0     1     0     0     0     1     0     0     0     1      0\n",
       "1     0     0     0     0     0     0     0     0     1      0\n",
       "2     0     0     0     0     0     0     0     0     0      0\n",
       "3     0     1     0     0     0     0     0     1     0      0\n",
       "4     0     0     0     0     0     0     0     0     0      0"
      ]
     },
     "execution_count": 3,
     "metadata": {},
     "output_type": "execute_result"
    }
   ],
   "source": [
    "dataset.head()"
   ]
  },
  {
   "cell_type": "code",
   "execution_count": 44,
   "metadata": {},
   "outputs": [
    {
     "data": {
      "text/plain": [
       "1"
      ]
     },
     "execution_count": 44,
     "metadata": {},
     "output_type": "execute_result"
    }
   ],
   "source": [
    "dataset.iloc[0,0]"
   ]
  },
  {
   "cell_type": "code",
   "execution_count": 4,
   "metadata": {},
   "outputs": [
    {
     "data": {
      "text/html": [
       "<div>\n",
       "<style scoped>\n",
       "    .dataframe tbody tr th:only-of-type {\n",
       "        vertical-align: middle;\n",
       "    }\n",
       "\n",
       "    .dataframe tbody tr th {\n",
       "        vertical-align: top;\n",
       "    }\n",
       "\n",
       "    .dataframe thead th {\n",
       "        text-align: right;\n",
       "    }\n",
       "</style>\n",
       "<table border=\"1\" class=\"dataframe\">\n",
       "  <thead>\n",
       "    <tr style=\"text-align: right;\">\n",
       "      <th></th>\n",
       "      <th>Ad 1</th>\n",
       "      <th>Ad 2</th>\n",
       "      <th>Ad 3</th>\n",
       "      <th>Ad 4</th>\n",
       "      <th>Ad 5</th>\n",
       "      <th>Ad 6</th>\n",
       "      <th>Ad 7</th>\n",
       "      <th>Ad 8</th>\n",
       "      <th>Ad 9</th>\n",
       "      <th>Ad 10</th>\n",
       "    </tr>\n",
       "  </thead>\n",
       "  <tbody>\n",
       "    <tr>\n",
       "      <th>count</th>\n",
       "      <td>10000.000000</td>\n",
       "      <td>10000.000000</td>\n",
       "      <td>10000.000000</td>\n",
       "      <td>10000.000000</td>\n",
       "      <td>10000.000000</td>\n",
       "      <td>10000.000000</td>\n",
       "      <td>10000.000000</td>\n",
       "      <td>10000.000000</td>\n",
       "      <td>10000.000000</td>\n",
       "      <td>10000.00000</td>\n",
       "    </tr>\n",
       "    <tr>\n",
       "      <th>mean</th>\n",
       "      <td>0.170300</td>\n",
       "      <td>0.129500</td>\n",
       "      <td>0.072800</td>\n",
       "      <td>0.119600</td>\n",
       "      <td>0.269500</td>\n",
       "      <td>0.012600</td>\n",
       "      <td>0.111200</td>\n",
       "      <td>0.209100</td>\n",
       "      <td>0.095200</td>\n",
       "      <td>0.04890</td>\n",
       "    </tr>\n",
       "    <tr>\n",
       "      <th>std</th>\n",
       "      <td>0.375915</td>\n",
       "      <td>0.335769</td>\n",
       "      <td>0.259821</td>\n",
       "      <td>0.324509</td>\n",
       "      <td>0.443722</td>\n",
       "      <td>0.111546</td>\n",
       "      <td>0.314395</td>\n",
       "      <td>0.406686</td>\n",
       "      <td>0.293506</td>\n",
       "      <td>0.21567</td>\n",
       "    </tr>\n",
       "    <tr>\n",
       "      <th>min</th>\n",
       "      <td>0.000000</td>\n",
       "      <td>0.000000</td>\n",
       "      <td>0.000000</td>\n",
       "      <td>0.000000</td>\n",
       "      <td>0.000000</td>\n",
       "      <td>0.000000</td>\n",
       "      <td>0.000000</td>\n",
       "      <td>0.000000</td>\n",
       "      <td>0.000000</td>\n",
       "      <td>0.00000</td>\n",
       "    </tr>\n",
       "    <tr>\n",
       "      <th>25%</th>\n",
       "      <td>0.000000</td>\n",
       "      <td>0.000000</td>\n",
       "      <td>0.000000</td>\n",
       "      <td>0.000000</td>\n",
       "      <td>0.000000</td>\n",
       "      <td>0.000000</td>\n",
       "      <td>0.000000</td>\n",
       "      <td>0.000000</td>\n",
       "      <td>0.000000</td>\n",
       "      <td>0.00000</td>\n",
       "    </tr>\n",
       "    <tr>\n",
       "      <th>50%</th>\n",
       "      <td>0.000000</td>\n",
       "      <td>0.000000</td>\n",
       "      <td>0.000000</td>\n",
       "      <td>0.000000</td>\n",
       "      <td>0.000000</td>\n",
       "      <td>0.000000</td>\n",
       "      <td>0.000000</td>\n",
       "      <td>0.000000</td>\n",
       "      <td>0.000000</td>\n",
       "      <td>0.00000</td>\n",
       "    </tr>\n",
       "    <tr>\n",
       "      <th>75%</th>\n",
       "      <td>0.000000</td>\n",
       "      <td>0.000000</td>\n",
       "      <td>0.000000</td>\n",
       "      <td>0.000000</td>\n",
       "      <td>1.000000</td>\n",
       "      <td>0.000000</td>\n",
       "      <td>0.000000</td>\n",
       "      <td>0.000000</td>\n",
       "      <td>0.000000</td>\n",
       "      <td>0.00000</td>\n",
       "    </tr>\n",
       "    <tr>\n",
       "      <th>max</th>\n",
       "      <td>1.000000</td>\n",
       "      <td>1.000000</td>\n",
       "      <td>1.000000</td>\n",
       "      <td>1.000000</td>\n",
       "      <td>1.000000</td>\n",
       "      <td>1.000000</td>\n",
       "      <td>1.000000</td>\n",
       "      <td>1.000000</td>\n",
       "      <td>1.000000</td>\n",
       "      <td>1.00000</td>\n",
       "    </tr>\n",
       "  </tbody>\n",
       "</table>\n",
       "</div>"
      ],
      "text/plain": [
       "               Ad 1          Ad 2          Ad 3          Ad 4          Ad 5  \\\n",
       "count  10000.000000  10000.000000  10000.000000  10000.000000  10000.000000   \n",
       "mean       0.170300      0.129500      0.072800      0.119600      0.269500   \n",
       "std        0.375915      0.335769      0.259821      0.324509      0.443722   \n",
       "min        0.000000      0.000000      0.000000      0.000000      0.000000   \n",
       "25%        0.000000      0.000000      0.000000      0.000000      0.000000   \n",
       "50%        0.000000      0.000000      0.000000      0.000000      0.000000   \n",
       "75%        0.000000      0.000000      0.000000      0.000000      1.000000   \n",
       "max        1.000000      1.000000      1.000000      1.000000      1.000000   \n",
       "\n",
       "               Ad 6          Ad 7          Ad 8          Ad 9        Ad 10  \n",
       "count  10000.000000  10000.000000  10000.000000  10000.000000  10000.00000  \n",
       "mean       0.012600      0.111200      0.209100      0.095200      0.04890  \n",
       "std        0.111546      0.314395      0.406686      0.293506      0.21567  \n",
       "min        0.000000      0.000000      0.000000      0.000000      0.00000  \n",
       "25%        0.000000      0.000000      0.000000      0.000000      0.00000  \n",
       "50%        0.000000      0.000000      0.000000      0.000000      0.00000  \n",
       "75%        0.000000      0.000000      0.000000      0.000000      0.00000  \n",
       "max        1.000000      1.000000      1.000000      1.000000      1.00000  "
      ]
     },
     "execution_count": 4,
     "metadata": {},
     "output_type": "execute_result"
    }
   ],
   "source": [
    "dataset.describe()"
   ]
  },
  {
   "cell_type": "code",
   "execution_count": 5,
   "metadata": {
    "scrolled": true
   },
   "outputs": [
    {
     "data": {
      "text/plain": [
       "Ad 1     1703\n",
       "Ad 2     1295\n",
       "Ad 3      728\n",
       "Ad 4     1196\n",
       "Ad 5     2695\n",
       "Ad 6      126\n",
       "Ad 7     1112\n",
       "Ad 8     2091\n",
       "Ad 9      952\n",
       "Ad 10     489\n",
       "dtype: int64"
      ]
     },
     "execution_count": 5,
     "metadata": {},
     "output_type": "execute_result"
    }
   ],
   "source": [
    "dataset.sum(axis = 0, skipna = True)"
   ]
  },
  {
   "cell_type": "code",
   "execution_count": 3,
   "metadata": {},
   "outputs": [],
   "source": [
    "def random_reward():\n",
    "    N = 10000\n",
    "    d = 10\n",
    "    ads_selected = []\n",
    "    total_reward = 0\n",
    "    for n in range(0, N):\n",
    "        ad = random.randrange(d)\n",
    "        ads_selected.append(ad)\n",
    "        reward = dataset.values[n, ad]\n",
    "        total_reward = total_reward + reward\n",
    "    return total_reward"
   ]
  },
  {
   "cell_type": "code",
   "execution_count": 7,
   "metadata": {
    "scrolled": true
   },
   "outputs": [
    {
     "data": {
      "text/plain": [
       "7    0.107\n",
       "3    0.107\n",
       "1    0.105\n",
       "9    0.103\n",
       "6    0.103\n",
       "2    0.099\n",
       "8    0.098\n",
       "4    0.098\n",
       "0    0.097\n",
       "5    0.083\n",
       "dtype: float64"
      ]
     },
     "execution_count": 7,
     "metadata": {},
     "output_type": "execute_result"
    }
   ],
   "source": [
    "pd.Series(ads_selected).tail(1000).value_counts(normalize = True)"
   ]
  },
  {
   "cell_type": "code",
   "execution_count": 4,
   "metadata": {},
   "outputs": [],
   "source": [
    "def ucb_reward():\n",
    "    N = 10000\n",
    "    d = 10\n",
    "    ads_selected = []\n",
    "    numbers_of_selections = [0] * d\n",
    "    sums_of_reward = [0] * d\n",
    "    total_reward = 0\n",
    "\n",
    "    for n in range(0, N):\n",
    "        ad = 0\n",
    "        max_upper_bound = 0\n",
    "        for i in range(0, d):\n",
    "            if (numbers_of_selections[i] > 0):\n",
    "                average_reward = sums_of_reward[i] / numbers_of_selections[i]\n",
    "                delta_i = math.sqrt(2 * math.log(n+1) / numbers_of_selections[i])\n",
    "                upper_bound = average_reward + delta_i\n",
    "            else:\n",
    "                upper_bound = 1e400\n",
    "            if upper_bound > max_upper_bound:\n",
    "                max_upper_bound = upper_bound\n",
    "                ad = i\n",
    "        ads_selected.append(ad)\n",
    "        numbers_of_selections[ad] += 1\n",
    "        reward = dataset.values[n, ad]\n",
    "        sums_of_reward[ad] += reward\n",
    "        total_reward += reward\n",
    "    return total_reward"
   ]
  },
  {
   "cell_type": "code",
   "execution_count": 9,
   "metadata": {},
   "outputs": [
    {
     "data": {
      "text/plain": [
       "2125"
      ]
     },
     "execution_count": 9,
     "metadata": {},
     "output_type": "execute_result"
    }
   ],
   "source": [
    "total_reward"
   ]
  },
  {
   "cell_type": "code",
   "execution_count": 10,
   "metadata": {},
   "outputs": [
    {
     "data": {
      "text/plain": [
       "10000"
      ]
     },
     "execution_count": 10,
     "metadata": {},
     "output_type": "execute_result"
    }
   ],
   "source": [
    "len(dataset)"
   ]
  },
  {
   "cell_type": "code",
   "execution_count": 16,
   "metadata": {},
   "outputs": [],
   "source": [
    "sample_size = int(len(dataset)*0.05)"
   ]
  },
  {
   "cell_type": "code",
   "execution_count": 48,
   "metadata": {},
   "outputs": [],
   "source": [
    "sample_size = int(len(dataset)*0.05)\n",
    "sample_dataset = dataset.iloc[0:sample_size, :]\n",
    "result_df = pd.DataFrame(0, index = np.arange(sample_size), columns = sample_dataset.columns)\n",
    "total_reward = 0 \n",
    "for i in range(len(sample_dataset)):\n",
    "    j = randrange(10)\n",
    "    result_df.iloc[i,j] = sample_dataset.iloc[i,j]\n",
    "    #total_reward = total_reward + sample_dataset.iloc[i, j]\n",
    "\n",
    "temp_x = result_df.sum(axis = 0, skipna = True)"
   ]
  },
  {
   "cell_type": "code",
   "execution_count": 50,
   "metadata": {},
   "outputs": [
    {
     "data": {
      "text/plain": [
       "Ad 1     10\n",
       "Ad 2      8\n",
       "Ad 3      7\n",
       "Ad 4      8\n",
       "Ad 5     12\n",
       "Ad 6      0\n",
       "Ad 7      6\n",
       "Ad 8     14\n",
       "Ad 9      4\n",
       "Ad 10     3\n",
       "dtype: int64"
      ]
     },
     "execution_count": 50,
     "metadata": {},
     "output_type": "execute_result"
    }
   ],
   "source": [
    "temp_x"
   ]
  },
  {
   "cell_type": "code",
   "execution_count": 5,
   "metadata": {
    "scrolled": true
   },
   "outputs": [],
   "source": [
    "def greedy_reward():\n",
    "    sample_size = int(len(dataset)*0.05)\n",
    "    sample_dataset = dataset.iloc[0:sample_size, :]\n",
    "\n",
    "    reward_points = 0\n",
    "    iterations = 100\n",
    "    for n in range (iterations):\n",
    "        result_df = pd.DataFrame(0, index = np.arange(sample_size), columns = sample_dataset.columns)\n",
    "        total_reward = 0 \n",
    "        #print(\"total start = \", total_reward)\n",
    "        for i in range(len(sample_dataset)):\n",
    "            j = randrange(10)\n",
    "            result_df.iloc[i,j] = sample_dataset.iloc[i,j]\n",
    "            #total_reward = total_reward + sample_dataset.iloc[i, j]\n",
    "        total_reward = result_df.values.sum()\n",
    "        #print(total_reward)\n",
    "        temp_x = result_df.sum(axis = 0, skipna = True)\n",
    "        ad_exploration = temp_x.idxmax()\n",
    "        reset_dataset = dataset.iloc[sample_size:,:]\n",
    "\n",
    "        total_reward = total_reward + reset_dataset[ad_exploration].sum()\n",
    "        reward_points = reward_points + total_reward\n",
    "        #print(len(reset_dataset))\n",
    "    #print(ad_exploration)\n",
    "    total_reward = reward_points/iterations \n",
    "    return total_reward"
   ]
  },
  {
   "cell_type": "code",
   "execution_count": 13,
   "metadata": {},
   "outputs": [
    {
     "name": "stdout",
     "output_type": "stream",
     "text": [
      "Hello! Please enter 1 to continue & 0 to exit \n",
      "1\n",
      "Hello! Please enter which MAB algorithms you might want to select:\n",
      "Enter 1 for MAB using Random Selection\n",
      "Enter 2 for MAB using Upper Confidence Bound Methodology\n",
      "Enter 3 for MAB using Upper Greedy Methodology\n",
      "Enter 4 for MAB using Epsilon Greedy Methodology\n",
      "Enter 5 for MAB using Stepwise Explore & Exploit Methodology\n",
      "Enter 6 for MAB using Thompson Sampling Methodology\n",
      "1\n",
      "Your model selection is Random Selection\n",
      "Your reward on the basis of your model selection is: 1238\n",
      "Hello! Please enter 1 to continue & 0 to exit \n",
      "1\n",
      "Hello! Please enter which MAB algorithms you might want to select:\n",
      "Enter 1 for MAB using Random Selection\n",
      "Enter 2 for MAB using Upper Confidence Bound Methodology\n",
      "Enter 3 for MAB using Upper Greedy Methodology\n",
      "Enter 4 for MAB using Epsilon Greedy Methodology\n",
      "Enter 5 for MAB using Stepwise Explore & Exploit Methodology\n",
      "Enter 6 for MAB using Thompson Sampling Methodology\n",
      "2\n",
      "Your model selection is UCB Methodology\n",
      "Your reward on the basis of your model selection is: 2125\n",
      "Hello! Please enter 1 to continue & 0 to exit \n",
      "1\n",
      "Hello! Please enter which MAB algorithms you might want to select:\n",
      "Enter 1 for MAB using Random Selection\n",
      "Enter 2 for MAB using Upper Confidence Bound Methodology\n",
      "Enter 3 for MAB using Upper Greedy Methodology\n",
      "Enter 4 for MAB using Epsilon Greedy Methodology\n",
      "Enter 5 for MAB using Stepwise Explore & Exploit Methodology\n",
      "Enter 6 for MAB using Thompson Sampling Methodology\n",
      "3\n",
      "Your model selection is Greedy Methodology\n",
      "Your reward on the basis of your model selection is: 2306.7\n",
      "Hello! Please enter 1 to continue & 0 to exit \n",
      "1\n",
      "Hello! Please enter which MAB algorithms you might want to select:\n",
      "Enter 1 for MAB using Random Selection\n",
      "Enter 2 for MAB using Upper Confidence Bound Methodology\n",
      "Enter 3 for MAB using Upper Greedy Methodology\n",
      "Enter 4 for MAB using Epsilon Greedy Methodology\n",
      "Enter 5 for MAB using Stepwise Explore & Exploit Methodology\n",
      "Enter 6 for MAB using Thompson Sampling Methodology\n",
      "4\n",
      "Your model selection is Epsilon Greedy Methodology\n",
      "Your reward on the basis of your model selection is: 2245\n",
      "Hello! Please enter 1 to continue & 0 to exit \n",
      "1\n",
      "Hello! Please enter which MAB algorithms you might want to select:\n",
      "Enter 1 for MAB using Random Selection\n",
      "Enter 2 for MAB using Upper Confidence Bound Methodology\n",
      "Enter 3 for MAB using Upper Greedy Methodology\n",
      "Enter 4 for MAB using Epsilon Greedy Methodology\n",
      "Enter 5 for MAB using Stepwise Explore & Exploit Methodology\n",
      "Enter 6 for MAB using Thompson Sampling Methodology\n",
      "5\n",
      "Your model selection is Stepwise Explore & Exploit Methodology\n",
      "Your reward on the basis of your model selection is: 2364.4\n",
      "Hello! Please enter 1 to continue & 0 to exit \n",
      "1\n",
      "Hello! Please enter which MAB algorithms you might want to select:\n",
      "Enter 1 for MAB using Random Selection\n",
      "Enter 2 for MAB using Upper Confidence Bound Methodology\n",
      "Enter 3 for MAB using Upper Greedy Methodology\n",
      "Enter 4 for MAB using Epsilon Greedy Methodology\n",
      "Enter 5 for MAB using Stepwise Explore & Exploit Methodology\n",
      "Enter 6 for MAB using Thompson Sampling Methodology\n",
      "6\n",
      "Your model selection is Thompson Sampling Methodology\n",
      "Your reward on the basis of your model selection is: 2562\n",
      "Hello! Please enter 1 to continue & 0 to exit \n",
      "0\n",
      "Quiting now!\n"
     ]
    }
   ],
   "source": [
    " while True: \n",
    "    print(\"Hello! Please enter 1 to continue & 0 to exit \") \n",
    "    input_selection = int(input()) \n",
    "    if (input_selection !=1): \n",
    "        print(\"Quiting now!\") \n",
    "        break \n",
    "    print(\"Hello! Please enter which MAB algorithms you might want to select:\") \n",
    "    #adstock = float(input()) \n",
    "    print (\"Enter 1 for MAB using Random Selection\") \n",
    "    print (\"Enter 2 for MAB using Upper Confidence Bound Methodology\") \n",
    "    print (\"Enter 3 for MAB using Upper Greedy Methodology\") \n",
    "    print (\"Enter 4 for MAB using Epsilon Greedy Methodology\") \n",
    "    print (\"Enter 5 for MAB using Stepwise Explore & Exploit Methodology\") \n",
    "    print (\"Enter 6 for MAB using Thompson Sampling Methodology\")\n",
    "    model_choice = int(input()) \n",
    "    if (model_choice == 1): \n",
    "        print (\"Your model selection is Random Selection\") \n",
    "        reward = random_reward() \n",
    "    elif (model_choice == 2): \n",
    "        print (\"Your model selection is UCB Methodology\") \n",
    "        reward = ucb_reward() \n",
    "    elif (model_choice == 3): \n",
    "        print (\"Your model selection is Greedy Methodology\") \n",
    "        reward = greedy_reward() \n",
    "    elif (model_choice == 4): \n",
    "        print (\"Your model selection is Epsilon Greedy Methodology\") \n",
    "        reward = epsilon_greedy_reward() \n",
    "    elif (model_choice == 5): \n",
    "        print (\"Your model selection is Stepwise Explore & Exploit Methodology\") \n",
    "        reward = stepwise_explore_exploit() \n",
    "    elif (model_choice == 6): \n",
    "        print (\"Your model selection is Thompson Sampling Methodology\") \n",
    "        reward = thompson_sampling()\n",
    "    else: \n",
    "        print(\"Your selection is wrong, now quiting!\") \n",
    "        break \n",
    "    print(\"Your reward on the basis of your model selection is:\", reward)"
   ]
  },
  {
   "cell_type": "code",
   "execution_count": 26,
   "metadata": {},
   "outputs": [
    {
     "data": {
      "text/plain": [
       "1"
      ]
     },
     "execution_count": 26,
     "metadata": {},
     "output_type": "execute_result"
    }
   ],
   "source": [
    "temp_x = dataset.iloc[0]\n",
    "dataset[temp_x.idxmax()].iloc[0]\n",
    "#print(temp_x)"
   ]
  },
  {
   "cell_type": "code",
   "execution_count": 6,
   "metadata": {},
   "outputs": [],
   "source": [
    "def func_explore(i):\n",
    "    temp_x = dataset.iloc[i]\n",
    "    return temp_x.idxmax()"
   ]
  },
  {
   "cell_type": "code",
   "execution_count": 7,
   "metadata": {},
   "outputs": [],
   "source": [
    "def func_exploit(ad, i):\n",
    "    reward = dataset[ad].iloc[i]\n",
    "    return reward"
   ]
  },
  {
   "cell_type": "code",
   "execution_count": 8,
   "metadata": {},
   "outputs": [],
   "source": [
    "def epsilon_greedy_reward():\n",
    "    reward_list = []\n",
    "    ad = func_explore(0)\n",
    "    for i in range(len(dataset)):\n",
    "        p = random.randrange(100)\n",
    "        if p < 10:\n",
    "            ad = func_explore(i)\n",
    "            reward = func_exploit(ad, i)\n",
    "        else: \n",
    "            reward = func_exploit(ad, i)\n",
    "        reward_list.append(reward)\n",
    "        total_reward = sum(reward_list)\n",
    "    return total_reward\n",
    "#print(random.randrange(100))"
   ]
  },
  {
   "cell_type": "markdown",
   "metadata": {},
   "source": [
    "# Greedy Epsilon Model\n",
    "p = random number\n",
    "if p < e:            ## e: epsilon being a small number\n",
    "    Explore\n",
    "Else: \n",
    "    Exploit"
   ]
  },
  {
   "cell_type": "markdown",
   "metadata": {},
   "source": [
    "# Stepwise Explore Exploit\n",
    "\n",
    "Loop: \n",
    "    5% Explore\n",
    "    20% Exploit"
   ]
  },
  {
   "cell_type": "code",
   "execution_count": 39,
   "metadata": {},
   "outputs": [
    {
     "data": {
      "text/plain": [
       "10"
      ]
     },
     "execution_count": 39,
     "metadata": {},
     "output_type": "execute_result"
    }
   ],
   "source": [
    "len(dataset.columns)"
   ]
  },
  {
   "cell_type": "code",
   "execution_count": 9,
   "metadata": {},
   "outputs": [],
   "source": [
    "def pc_5_explore(sample_dataset):\n",
    "    \n",
    "    df_len = len(sample_dataset)\n",
    "    rand = len(sample_dataset.columns)\n",
    "    result_df = pd.DataFrame(0, index = np.arange(df_len), columns = sample_dataset.columns)\n",
    "    total_reward = 0 \n",
    "        #print(\"total start = \", total_reward)\n",
    "    for i in range(len(sample_dataset)):\n",
    "        j = randrange(rand)\n",
    "        result_df.iloc[i,j] = sample_dataset.iloc[i,j]\n",
    "        #total_reward = total_reward + sample_dataset.iloc[i, j]\n",
    "    total_reward = result_df.values.sum()\n",
    "    #print(total_reward)\n",
    "    temp_x = result_df.sum(axis = 0, skipna = True)\n",
    "    ad_exploration = temp_x.idxmax()\n",
    "    return total_reward, ad_exploration"
   ]
  },
  {
   "cell_type": "code",
   "execution_count": 10,
   "metadata": {},
   "outputs": [],
   "source": [
    "def pc_20_exploit(sample_dataset, ad): \n",
    "    reward = 0\n",
    "    reward = reward + sample_dataset[ad].sum()\n",
    "    return reward\n",
    "    "
   ]
  },
  {
   "cell_type": "code",
   "execution_count": 11,
   "metadata": {},
   "outputs": [],
   "source": [
    "def stepwise_explore_exploit(): \n",
    "    total_reward = 0\n",
    "    n = 10\n",
    "    for itr in range(n):\n",
    "        pc_5_val = int(len(dataset)*0.05)\n",
    "        pc_20_val = int(len(dataset)*0.2)\n",
    "\n",
    "        sample_dataset = dataset.iloc[0:pc_5_val, :]\n",
    "\n",
    "        reward, ad = pc_5_explore(sample_dataset)\n",
    "        total_reward = total_reward + reward\n",
    "\n",
    "        sample_dataset = dataset.iloc[pc_5_val:pc_20_val, :]\n",
    "\n",
    "        reward = pc_20_exploit(sample_dataset, ad)\n",
    "        total_reward = total_reward + reward\n",
    "\n",
    "        new_limit = pc_5_val + pc_20_val\n",
    "        sample_dataset = dataset.iloc[pc_20_val:new_limit, :]\n",
    "\n",
    "        reward, ad = pc_5_explore(sample_dataset)\n",
    "        total_reward = total_reward + reward\n",
    "\n",
    "        sample_dataset = dataset.iloc[new_limit:, :]\n",
    "\n",
    "        reward = pc_20_exploit(sample_dataset, ad)\n",
    "        total_reward = total_reward + reward\n",
    "    return total_reward/n"
   ]
  },
  {
   "cell_type": "code",
   "execution_count": 12,
   "metadata": {},
   "outputs": [],
   "source": [
    "def thompson_sampling():\n",
    "    observations = len(dataset)\n",
    "    machines = len(dataset.columns)\n",
    "    machine_selected = []\n",
    "    rewards = [0] * machines\n",
    "    penalties = [0] * machines\n",
    "    total_reward = 0\n",
    "    for n in range(0, observations):\n",
    "        bandit = 0\n",
    "        beta_max = 0\n",
    "        for i in range(0, machines):\n",
    "            beta_d = random.betavariate(rewards[i] + 1, penalties[i] + 1)\n",
    "            if beta_d > beta_max:\n",
    "                beta_max = beta_d\n",
    "                bandit = i\n",
    "        machine_selected.append(bandit)\n",
    "        #print(bandit)\n",
    "        reward = dataset.values[n, bandit]\n",
    "        if reward == 1:\n",
    "            rewards[bandit] = rewards[bandit] + 1\n",
    "        else:\n",
    "            penalties[bandit] = penalties[bandit] + 1\n",
    "        #print(reward)\n",
    "        total_reward = total_reward + reward\n",
    "    return total_reward"
   ]
  }
 ],
 "metadata": {
  "kernelspec": {
   "display_name": "Python 3",
   "language": "python",
   "name": "python3"
  },
  "language_info": {
   "codemirror_mode": {
    "name": "ipython",
    "version": 3
   },
   "file_extension": ".py",
   "mimetype": "text/x-python",
   "name": "python",
   "nbconvert_exporter": "python",
   "pygments_lexer": "ipython3",
   "version": "3.8.8"
  }
 },
 "nbformat": 4,
 "nbformat_minor": 4
}
